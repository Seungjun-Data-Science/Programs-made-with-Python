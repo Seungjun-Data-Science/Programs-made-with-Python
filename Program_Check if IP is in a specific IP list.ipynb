{
 "cells": [
  {
   "cell_type": "markdown",
   "metadata": {},
   "source": [
    "## Program : Checking whether certain IPs are in a specific IP list "
   ]
  },
  {
   "cell_type": "markdown",
   "metadata": {},
   "source": [
    "This program checks if each cell of a certain column of a dataframe filled with IP addresses (strings) is in a specific IP list. Then, we create a new column that indicates whether each cell of that certain column is in the specific IP list with 'T' or 'F'."
   ]
  },
  {
   "cell_type": "markdown",
   "metadata": {},
   "source": [
    "This program assumes that a user has already typed in values for the three variables(set_of_ip, start_ip, end_ip). The following values stored in those three variables are examples values for testing."
   ]
  },
  {
   "cell_type": "code",
   "execution_count": 1,
   "metadata": {
    "collapsed": false
   },
   "outputs": [
    {
     "name": "stdout",
     "output_type": "stream",
     "text": [
      "Once deleted, variables cannot be recovered. Proceed (y/[n])? y\n"
     ]
    }
   ],
   "source": [
    "% reset"
   ]
  },
  {
   "cell_type": "code",
   "execution_count": 2,
   "metadata": {
    "collapsed": true
   },
   "outputs": [],
   "source": [
    "import pandas as pd\n",
    "from netaddr import *"
   ]
  },
  {
   "cell_type": "markdown",
   "metadata": {},
   "source": [
    "### Case 1: List of IPs is comprised of few IPs that are not in a specific range. The user types in several IPs to make the IP list."
   ]
  },
  {
   "cell_type": "code",
   "execution_count": 3,
   "metadata": {
    "collapsed": false
   },
   "outputs": [],
   "source": [
    "set_of_ip = '192.0.2.3, 192.0.2.15,192.0.2.30'"
   ]
  },
  {
   "cell_type": "code",
   "execution_count": 4,
   "metadata": {
    "collapsed": false
   },
   "outputs": [],
   "source": [
    "ip_lst1 = []"
   ]
  },
  {
   "cell_type": "code",
   "execution_count": 5,
   "metadata": {
    "collapsed": false
   },
   "outputs": [],
   "source": [
    "# 'Except' is for the situation where the user only makes the IP list using case2 shown below\n",
    "try:\n",
    "    for i in set_of_ip.split(','):\n",
    "        ip_lst1.append(IPAddress(i.strip()))\n",
    "except NameError:\n",
    "    pass"
   ]
  },
  {
   "cell_type": "code",
   "execution_count": 6,
   "metadata": {
    "collapsed": false
   },
   "outputs": [
    {
     "data": {
      "text/plain": [
       "[IPAddress('192.0.2.3'), IPAddress('192.0.2.15'), IPAddress('192.0.2.30')]"
      ]
     },
     "execution_count": 6,
     "metadata": {},
     "output_type": "execute_result"
    }
   ],
   "source": [
    "ip_lst1"
   ]
  },
  {
   "cell_type": "markdown",
   "metadata": {},
   "source": [
    "### Case 2: List of IPs is a range of IPs. The user types in the start Ip and the end IP to create a IP range list"
   ]
  },
  {
   "cell_type": "code",
   "execution_count": 7,
   "metadata": {
    "collapsed": false
   },
   "outputs": [],
   "source": [
    "# 'Except' is for the situation where the user only makes the IP list using case1 shown above\n",
    "start_ip = '192.0.2.250'\n",
    "end_ip ='192.0.3.10'\n",
    "\n",
    "try:\n",
    "    if start_ip < end_ip:\n",
    "        ip_lst2 = list(iter_iprange(start_ip, end_ip))\n",
    "    else:\n",
    "        ip_lst2 = list(iter_iprange(end_ip, start_ip))\n",
    "except NameError:\n",
    "    ip_lst2 = []"
   ]
  },
  {
   "cell_type": "code",
   "execution_count": 8,
   "metadata": {
    "collapsed": false,
    "scrolled": true
   },
   "outputs": [
    {
     "data": {
      "text/plain": [
       "[IPAddress('192.0.2.250'),\n",
       " IPAddress('192.0.2.251'),\n",
       " IPAddress('192.0.2.252'),\n",
       " IPAddress('192.0.2.253'),\n",
       " IPAddress('192.0.2.254'),\n",
       " IPAddress('192.0.2.255'),\n",
       " IPAddress('192.0.3.0'),\n",
       " IPAddress('192.0.3.1'),\n",
       " IPAddress('192.0.3.2'),\n",
       " IPAddress('192.0.3.3'),\n",
       " IPAddress('192.0.3.4'),\n",
       " IPAddress('192.0.3.5'),\n",
       " IPAddress('192.0.3.6'),\n",
       " IPAddress('192.0.3.7'),\n",
       " IPAddress('192.0.3.8'),\n",
       " IPAddress('192.0.3.9'),\n",
       " IPAddress('192.0.3.10')]"
      ]
     },
     "execution_count": 8,
     "metadata": {},
     "output_type": "execute_result"
    }
   ],
   "source": [
    "ip_lst2"
   ]
  },
  {
   "cell_type": "code",
   "execution_count": 9,
   "metadata": {
    "collapsed": true
   },
   "outputs": [],
   "source": [
    "ip_total = set(ip_lst1 + ip_lst2)"
   ]
  },
  {
   "cell_type": "code",
   "execution_count": 10,
   "metadata": {
    "collapsed": false
   },
   "outputs": [
    {
     "data": {
      "text/plain": [
       "{IPAddress('192.0.2.3'),\n",
       " IPAddress('192.0.2.15'),\n",
       " IPAddress('192.0.2.30'),\n",
       " IPAddress('192.0.2.250'),\n",
       " IPAddress('192.0.2.251'),\n",
       " IPAddress('192.0.2.252'),\n",
       " IPAddress('192.0.2.253'),\n",
       " IPAddress('192.0.2.254'),\n",
       " IPAddress('192.0.2.255'),\n",
       " IPAddress('192.0.3.0'),\n",
       " IPAddress('192.0.3.1'),\n",
       " IPAddress('192.0.3.2'),\n",
       " IPAddress('192.0.3.3'),\n",
       " IPAddress('192.0.3.4'),\n",
       " IPAddress('192.0.3.5'),\n",
       " IPAddress('192.0.3.6'),\n",
       " IPAddress('192.0.3.7'),\n",
       " IPAddress('192.0.3.8'),\n",
       " IPAddress('192.0.3.9'),\n",
       " IPAddress('192.0.3.10')}"
      ]
     },
     "execution_count": 10,
     "metadata": {},
     "output_type": "execute_result"
    }
   ],
   "source": [
    "ip_total"
   ]
  },
  {
   "cell_type": "code",
   "execution_count": 11,
   "metadata": {
    "collapsed": true
   },
   "outputs": [],
   "source": [
    "df = pd.DataFrame({'IP':['192.0.2.251', '192.0.3.5', '192.0.4.1']})"
   ]
  },
  {
   "cell_type": "code",
   "execution_count": 12,
   "metadata": {
    "collapsed": false,
    "scrolled": true
   },
   "outputs": [
    {
     "data": {
      "text/html": [
       "<div>\n",
       "<table border=\"1\" class=\"dataframe\">\n",
       "  <thead>\n",
       "    <tr style=\"text-align: right;\">\n",
       "      <th></th>\n",
       "      <th>IP</th>\n",
       "    </tr>\n",
       "  </thead>\n",
       "  <tbody>\n",
       "    <tr>\n",
       "      <th>0</th>\n",
       "      <td>192.0.2.251</td>\n",
       "    </tr>\n",
       "    <tr>\n",
       "      <th>1</th>\n",
       "      <td>192.0.3.5</td>\n",
       "    </tr>\n",
       "    <tr>\n",
       "      <th>2</th>\n",
       "      <td>192.0.4.1</td>\n",
       "    </tr>\n",
       "  </tbody>\n",
       "</table>\n",
       "</div>"
      ],
      "text/plain": [
       "            IP\n",
       "0  192.0.2.251\n",
       "1    192.0.3.5\n",
       "2    192.0.4.1"
      ]
     },
     "execution_count": 12,
     "metadata": {},
     "output_type": "execute_result"
    }
   ],
   "source": [
    "df"
   ]
  },
  {
   "cell_type": "code",
   "execution_count": 13,
   "metadata": {
    "collapsed": true
   },
   "outputs": [],
   "source": [
    "def ip_in_iplist_T_F(ip):\n",
    "    if IPAddress(ip) in ip_total:\n",
    "        return 'T'\n",
    "    else:\n",
    "        return 'F' "
   ]
  },
  {
   "cell_type": "code",
   "execution_count": 14,
   "metadata": {
    "collapsed": false
   },
   "outputs": [],
   "source": [
    "df['ip_in_iplist_T_F'] = \\\n",
    "df['IP'].map(ip_in_iplist_T_F)"
   ]
  },
  {
   "cell_type": "code",
   "execution_count": 15,
   "metadata": {
    "collapsed": false
   },
   "outputs": [
    {
     "data": {
      "text/html": [
       "<div>\n",
       "<table border=\"1\" class=\"dataframe\">\n",
       "  <thead>\n",
       "    <tr style=\"text-align: right;\">\n",
       "      <th></th>\n",
       "      <th>IP</th>\n",
       "      <th>ip_in_iplist_T_F</th>\n",
       "    </tr>\n",
       "  </thead>\n",
       "  <tbody>\n",
       "    <tr>\n",
       "      <th>0</th>\n",
       "      <td>192.0.2.251</td>\n",
       "      <td>T</td>\n",
       "    </tr>\n",
       "    <tr>\n",
       "      <th>1</th>\n",
       "      <td>192.0.3.5</td>\n",
       "      <td>T</td>\n",
       "    </tr>\n",
       "    <tr>\n",
       "      <th>2</th>\n",
       "      <td>192.0.4.1</td>\n",
       "      <td>F</td>\n",
       "    </tr>\n",
       "  </tbody>\n",
       "</table>\n",
       "</div>"
      ],
      "text/plain": [
       "            IP ip_in_iplist_T_F\n",
       "0  192.0.2.251                T\n",
       "1    192.0.3.5                T\n",
       "2    192.0.4.1                F"
      ]
     },
     "execution_count": 15,
     "metadata": {},
     "output_type": "execute_result"
    }
   ],
   "source": [
    "df"
   ]
  }
 ],
 "metadata": {
  "kernelspec": {
   "display_name": "Python 3",
   "language": "python",
   "name": "python3"
  },
  "language_info": {
   "codemirror_mode": {
    "name": "ipython",
    "version": 3
   },
   "file_extension": ".py",
   "mimetype": "text/x-python",
   "name": "python",
   "nbconvert_exporter": "python",
   "pygments_lexer": "ipython3",
   "version": "3.5.3"
  }
 },
 "nbformat": 4,
 "nbformat_minor": 0
}
